{
 "cells": [
  {
   "cell_type": "code",
   "execution_count": null,
   "metadata": {},
   "outputs": [],
   "source": [
    "# find the winner\n",
    "\n",
    "# joos arrow -> (3, 3)\n",
    "# robin arrow -> (1, 2)"
   ]
  },
  {
   "cell_type": "code",
   "execution_count": null,
   "metadata": {},
   "outputs": [],
   "source": []
  },
  {
   "cell_type": "code",
   "execution_count": 9,
   "metadata": {},
   "outputs": [],
   "source": [
    "import math"
   ]
  },
  {
   "cell_type": "code",
   "execution_count": 73,
   "metadata": {},
   "outputs": [
    {
     "name": "stdout",
     "output_type": "stream",
     "text": [
      "robin wins\n"
     ]
    }
   ],
   "source": [
    "# approach 1:\n",
    "joos_dist = math.sqrt(3**2 + 3**2)\n",
    "robin_dist = math.sqrt(1**2 + 2**2)\n",
    "if joos_dist < robin_dist:\n",
    "    print('joos wins')\n",
    "elif joos_dist > robin_dist:\n",
    "    print('robin wins')\n",
    "else:\n",
    "    print('tie')"
   ]
  },
  {
   "cell_type": "code",
   "execution_count": 71,
   "metadata": {},
   "outputs": [
    {
     "name": "stdout",
     "output_type": "stream",
     "text": [
      "robin wins\n"
     ]
    }
   ],
   "source": [
    "# approach 2:\n",
    "def distance(coord):\n",
    "    assert isinstance(coord, tuple), 'sorry ! coord needs to be a tuple'\n",
    "    return math.sqrt(coord[0]**2 + coord[1]**2)\n",
    "\n",
    "joos_coord = (3, 3)\n",
    "robin_coord = (1, 2)\n",
    "\n",
    "if distance(joos_coord) < distance(robin_coord):\n",
    "    print('joos wins')\n",
    "elif distance(joos_coord) > distance(robin_coord):\n",
    "    print('robin wins')\n",
    "else:\n",
    "    print('tie')"
   ]
  },
  {
   "cell_type": "code",
   "execution_count": null,
   "metadata": {},
   "outputs": [],
   "source": []
  },
  {
   "cell_type": "code",
   "execution_count": 21,
   "metadata": {},
   "outputs": [
    {
     "data": {
      "text/plain": [
       "1"
      ]
     },
     "execution_count": 21,
     "metadata": {},
     "output_type": "execute_result"
    }
   ],
   "source": [
    "# approach 3\n",
    "def winner(coord1, coord2):\n",
    "    if distance(coord1) < distance(coord2):\n",
    "        return 0\n",
    "    elif distance(coord1) > distance(coord2):\n",
    "        return 1\n",
    "    else:\n",
    "        return 2\n",
    "\n",
    "winner(joos_coord, robin_coord )"
   ]
  },
  {
   "cell_type": "code",
   "execution_count": 37,
   "metadata": {},
   "outputs": [
    {
     "data": {
      "text/plain": [
       "[0]"
      ]
     },
     "execution_count": 37,
     "metadata": {},
     "output_type": "execute_result"
    }
   ],
   "source": [
    "# approach 4\n",
    "import numpy as np\n",
    "def winner(list_of_points):\n",
    "    distances = [distance(point) for point in list_of_points]\n",
    "    return np.argwhere(distances == np.max(distances)).flatten().tolist()\n",
    "\n",
    "winner([joos_coord, robin_coord])"
   ]
  },
  {
   "cell_type": "code",
   "execution_count": 38,
   "metadata": {},
   "outputs": [
    {
     "data": {
      "text/plain": [
       "[0, 1]"
      ]
     },
     "execution_count": 38,
     "metadata": {},
     "output_type": "execute_result"
    }
   ],
   "source": [
    "winner([(2, 2), (2, 2)])"
   ]
  },
  {
   "cell_type": "code",
   "execution_count": 39,
   "metadata": {},
   "outputs": [
    {
     "data": {
      "text/plain": [
       "[2]"
      ]
     },
     "execution_count": 39,
     "metadata": {},
     "output_type": "execute_result"
    }
   ],
   "source": [
    "winner([(2, 2), (2, 2), (1, 3)])"
   ]
  },
  {
   "cell_type": "code",
   "execution_count": null,
   "metadata": {},
   "outputs": [],
   "source": []
  },
  {
   "cell_type": "code",
   "execution_count": 52,
   "metadata": {},
   "outputs": [],
   "source": [
    "# attention to scope"
   ]
  },
  {
   "cell_type": "code",
   "execution_count": 74,
   "metadata": {},
   "outputs": [
    {
     "name": "stdout",
     "output_type": "stream",
     "text": [
      "Hello joos !\n"
     ]
    }
   ],
   "source": [
    "name = 'joos'\n",
    "print(\"Hello\",name,\"!\")"
   ]
  },
  {
   "cell_type": "code",
   "execution_count": 75,
   "metadata": {},
   "outputs": [],
   "source": [
    "def say_hello_to(nom):\n",
    "    print(\"Hello\",name,\"!\")"
   ]
  },
  {
   "cell_type": "code",
   "execution_count": 76,
   "metadata": {},
   "outputs": [
    {
     "name": "stdout",
     "output_type": "stream",
     "text": [
      "Hello joos !\n"
     ]
    }
   ],
   "source": [
    "say_hello_to('nico')"
   ]
  },
  {
   "cell_type": "code",
   "execution_count": null,
   "metadata": {},
   "outputs": [],
   "source": []
  }
 ],
 "metadata": {
  "kernelspec": {
   "display_name": "Python 3",
   "language": "python",
   "name": "python3"
  },
  "language_info": {
   "codemirror_mode": {
    "name": "ipython",
    "version": 3
   },
   "file_extension": ".py",
   "mimetype": "text/x-python",
   "name": "python",
   "nbconvert_exporter": "python",
   "pygments_lexer": "ipython3",
   "version": "3.7.3"
  }
 },
 "nbformat": 4,
 "nbformat_minor": 2
}
